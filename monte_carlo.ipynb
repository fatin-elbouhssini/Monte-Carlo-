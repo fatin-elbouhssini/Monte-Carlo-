{
  "nbformat": 4,
  "nbformat_minor": 0,
  "metadata": {
    "colab": {
      "name": "monte_carlo.ipynb",
      "provenance": [],
      "collapsed_sections": []
    },
    "kernelspec": {
      "name": "python3",
      "display_name": "Python 3"
    }
  },
  "cells": [
    {
      "cell_type": "code",
      "metadata": {
        "colab": {
          "base_uri": "https://localhost:8080/"
        },
        "id": "dklhJVG1nfjI",
        "outputId": "87841f5c-367b-43d9-c674-fd90a6aa37ea"
      },
      "source": [
        "from google.colab import drive \r\n",
        "drive.mount('/content/drive')"
      ],
      "execution_count": 3,
      "outputs": [
        {
          "output_type": "stream",
          "text": [
            "Mounted at /content/drive\n"
          ],
          "name": "stdout"
        }
      ]
    },
    {
      "cell_type": "code",
      "metadata": {
        "id": "L3b1JBb9pEjM"
      },
      "source": [
        "import random"
      ],
      "execution_count": 4,
      "outputs": []
    },
    {
      "cell_type": "code",
      "metadata": {
        "id": "7fZE7VxZpdaJ"
      },
      "source": [
        "class FairRoulette():\r\n",
        "  def __init__(self):\r\n",
        "    self.pockets = []\r\n",
        "    for i in range(1,37):\r\n",
        "      self.pockets.append(i)\r\n",
        "    self.ball = None\r\n",
        "    self.pocketsOdds = len(self.pockets) - 1\r\n",
        "  def spin(self):\r\n",
        "    self.ball = random.choice(self.pockets)\r\n",
        "  def betPocket(self, pocket, amt):\r\n",
        "    if str(pocket) == str(self.ball):\r\n",
        "      return amt*self.pocketsOdds\r\n",
        "    else: \r\n",
        "      return -amt\r\n",
        "  def __str__(self):\r\n",
        "    return 'Fair Roulette'"
      ],
      "execution_count": 35,
      "outputs": []
    },
    {
      "cell_type": "code",
      "metadata": {
        "colab": {
          "base_uri": "https://localhost:8080/"
        },
        "id": "Hme1hKjLqWck",
        "outputId": "24f57ea8-5a5d-44e2-e13c-ba309f980f46"
      },
      "source": [
        "def playRoulette(game, numSpins, pocket, bet, toPrint):\r\n",
        "  totPocket = 0\r\n",
        "  for i in range(numSpins):\r\n",
        "    game.spin()\r\n",
        "    totPocket += game.betPocket(pocket, bet)\r\n",
        "  if toPrint:\r\n",
        "    print(numSpins, 'spins of', game)\r\n",
        "    print('Expected return betting', pocket, '=', str(100*totPocket/numSpins))\r\n",
        "  return (totPocket/numSpins)\r\n",
        "game = FairRoulette()\r\n",
        "for numSpins in (100, 1000000):\r\n",
        "  for i in range(3):\r\n",
        "    playRoulette(game, numSpins, 2 ,1, True)"
      ],
      "execution_count": 36,
      "outputs": [
        {
          "output_type": "stream",
          "text": [
            "100 spins of Fair Roulette\n",
            "Expected return betting 2 = -64.0\n",
            "100 spins of Fair Roulette\n",
            "Expected return betting 2 = -28.0\n",
            "100 spins of Fair Roulette\n",
            "Expected return betting 2 = 80.0\n",
            "1000000 spins of Fair Roulette\n",
            "Expected return betting 2 = -0.0424\n",
            "1000000 spins of Fair Roulette\n",
            "Expected return betting 2 = 0.602\n",
            "1000000 spins of Fair Roulette\n",
            "Expected return betting 2 = 0.7892\n"
          ],
          "name": "stdout"
        }
      ]
    },
    {
      "cell_type": "code",
      "metadata": {
        "id": "7o-GQw8bq4O0"
      },
      "source": [
        "class EuRoulette(FairRoulette):\r\n",
        "\tdef __init__(self):\r\n",
        "\t\tFairRoulette.__init__(self)\r\n",
        "\t\tself.pockets.append('0')\r\n",
        "\tdef __str__(self):\r\n",
        "\t\treturn 'European Roulette'\r\n",
        "class AmRoulette(EuRoulette):\r\n",
        "  def __init__(self):\r\n",
        "    EuRoulette.__init__(self)\r\n",
        "    self.pockets.append('00')\r\n",
        "  def __str__(self):\r\n",
        "    return 'American Roulette'"
      ],
      "execution_count": 43,
      "outputs": []
    },
    {
      "cell_type": "code",
      "metadata": {
        "colab": {
          "base_uri": "https://localhost:8080/",
          "height": 265
        },
        "id": "NAj2NqeNugm6",
        "outputId": "2c03e2cf-718b-4a38-b9cf-80276d7f0421"
      },
      "source": [
        "resultDict = {}\r\n",
        "games = (FairRoulette, EuRoulette, AmRoulette)\r\n",
        "for G in games:\r\n",
        "\tresultDict[G().__str__()] = []\r\n",
        "numTrials = 20\r\n",
        "for numSpins in (100, 1000, 10000):\r\n",
        "  print('\\nSimulate betting a pocket for', numTrials, 'trials of', numSpins, 'spins each')\r\n",
        "  for G in games:\r\n",
        "    pocketReturn = findPocketReturn(G(), 20, numSpins, False)\r\n",
        "    mean, std = getMeanAndStd(pocketReturns)\r\n",
        "    resultDict[G().__str__()].append((numSpins,100*mean, 100*std))\r\n",
        "    print('Exp. return for', G(), '=', str(round(100*mean, 3)) + '%,', '+/-' + str(round(100*1.96*std, 3))+ '% with 95% confidence')"
      ],
      "execution_count": 48,
      "outputs": [
        {
          "output_type": "stream",
          "text": [
            "\n",
            "Simulate betting a pocket for 20 trials of 100 spins each\n"
          ],
          "name": "stdout"
        },
        {
          "output_type": "error",
          "ename": "NameError",
          "evalue": "ignored",
          "traceback": [
            "\u001b[0;31m---------------------------------------------------------------------------\u001b[0m",
            "\u001b[0;31mNameError\u001b[0m                                 Traceback (most recent call last)",
            "\u001b[0;32m<ipython-input-48-665bac4b4403>\u001b[0m in \u001b[0;36m<module>\u001b[0;34m()\u001b[0m\n\u001b[1;32m      7\u001b[0m   \u001b[0mprint\u001b[0m\u001b[0;34m(\u001b[0m\u001b[0;34m'\\nSimulate betting a pocket for'\u001b[0m\u001b[0;34m,\u001b[0m \u001b[0mnumTrials\u001b[0m\u001b[0;34m,\u001b[0m \u001b[0;34m'trials of'\u001b[0m\u001b[0;34m,\u001b[0m \u001b[0mnumSpins\u001b[0m\u001b[0;34m,\u001b[0m \u001b[0;34m'spins each'\u001b[0m\u001b[0;34m)\u001b[0m\u001b[0;34m\u001b[0m\u001b[0;34m\u001b[0m\u001b[0m\n\u001b[1;32m      8\u001b[0m   \u001b[0;32mfor\u001b[0m \u001b[0mG\u001b[0m \u001b[0;32min\u001b[0m \u001b[0mgames\u001b[0m\u001b[0;34m:\u001b[0m\u001b[0;34m\u001b[0m\u001b[0;34m\u001b[0m\u001b[0m\n\u001b[0;32m----> 9\u001b[0;31m     \u001b[0mpocketReturn\u001b[0m \u001b[0;34m=\u001b[0m \u001b[0mfindPocketReturn\u001b[0m\u001b[0;34m(\u001b[0m\u001b[0mG\u001b[0m\u001b[0;34m(\u001b[0m\u001b[0;34m)\u001b[0m\u001b[0;34m,\u001b[0m \u001b[0;36m20\u001b[0m\u001b[0;34m,\u001b[0m \u001b[0mnumSpins\u001b[0m\u001b[0;34m,\u001b[0m \u001b[0;32mFalse\u001b[0m\u001b[0;34m)\u001b[0m\u001b[0;34m\u001b[0m\u001b[0;34m\u001b[0m\u001b[0m\n\u001b[0m\u001b[1;32m     10\u001b[0m     \u001b[0mmean\u001b[0m\u001b[0;34m,\u001b[0m \u001b[0mstd\u001b[0m \u001b[0;34m=\u001b[0m \u001b[0mgetMeanAndStd\u001b[0m\u001b[0;34m(\u001b[0m\u001b[0mpocketReturns\u001b[0m\u001b[0;34m)\u001b[0m\u001b[0;34m\u001b[0m\u001b[0;34m\u001b[0m\u001b[0m\n\u001b[1;32m     11\u001b[0m     \u001b[0mresultDict\u001b[0m\u001b[0;34m[\u001b[0m\u001b[0mG\u001b[0m\u001b[0;34m(\u001b[0m\u001b[0;34m)\u001b[0m\u001b[0;34m.\u001b[0m\u001b[0m__str__\u001b[0m\u001b[0;34m(\u001b[0m\u001b[0;34m)\u001b[0m\u001b[0;34m]\u001b[0m\u001b[0;34m.\u001b[0m\u001b[0mappend\u001b[0m\u001b[0;34m(\u001b[0m\u001b[0;34m(\u001b[0m\u001b[0mnumSpins\u001b[0m\u001b[0;34m,\u001b[0m\u001b[0;36m100\u001b[0m\u001b[0;34m*\u001b[0m\u001b[0mmean\u001b[0m\u001b[0;34m,\u001b[0m \u001b[0;36m100\u001b[0m\u001b[0;34m*\u001b[0m\u001b[0mstd\u001b[0m\u001b[0;34m)\u001b[0m\u001b[0;34m)\u001b[0m\u001b[0;34m\u001b[0m\u001b[0;34m\u001b[0m\u001b[0m\n",
            "\u001b[0;31mNameError\u001b[0m: name 'findPocketReturn' is not defined"
          ]
        }
      ]
    },
    {
      "cell_type": "code",
      "metadata": {
        "id": "2CbOqQdgvdEB"
      },
      "source": [
        ""
      ],
      "execution_count": null,
      "outputs": []
    }
  ]
}